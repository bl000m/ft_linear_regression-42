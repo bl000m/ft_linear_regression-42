{
 "cells": [
  {
   "cell_type": "code",
   "execution_count": 1,
   "id": "0cccbf59-fb64-410f-94d6-f08cd9ddd8bb",
   "metadata": {},
   "outputs": [],
   "source": [
    "import csv\n",
    "\n",
    "def mean(values):\n",
    "    return sum(values) / float(len(values))\n",
    "\n",
    "def covariance(x, mean_x, y, mean_y):\n",
    "    covar = 0.0\n",
    "    for i in range(len(x)):\n",
    "        covar += (x[i] - mean_x) * (y[i] - mean_y)\n",
    "    return covar\n",
    "\n",
    "def variance(values, mean):\n",
    "    return sum((x - mean) ** 2 for x in values)\n",
    "\n",
    "def coefficients(x, y):\n",
    "    x_mean, y_mean = mean(x), mean(y)\n",
    "    b1 = covariance(x, x_mean, y, y_mean) / variance(x, x_mean)\n",
    "    b0 = y_mean - b1 * x_mean\n",
    "    return b0, b1\n",
    "\n",
    "def simple_linear_regression(x, y):\n",
    "    b0, b1 = coefficients(x, y)\n",
    "    return b0, b1\n",
    "\n",
    "def train_and_save_model():\n",
    "    # Load the dataset\n",
    "    dataset = []\n",
    "    with open('data.csv', 'r') as file:\n",
    "        reader = csv.reader(file)\n",
    "        next(reader)  # Skip header\n",
    "        for row in reader:\n",
    "            dataset.append([float(row[0]), float(row[1])])\n",
    "\n",
    "    # Separate dataset into features (mileage) and target variable (price)\n",
    "    X = [row[0] for row in dataset]\n",
    "    y = [row[1] for row in dataset]\n",
    "\n",
    "    # Train the model\n",
    "    b0, b1 = simple_linear_regression(X, y)\n",
    "\n",
    "    # Save the trained model\n",
    "    with open('linear_regression_model.txt', 'w') as file:\n",
    "        file.write(f'{b0},{b1}')\n",
    "\n",
    "if __name__ == \"__main__\":\n",
    "    train_and_save_model()"
   ]
  },
  {
   "cell_type": "code",
   "execution_count": 2,
   "id": "6dc3ffc0-7bd1-4343-86d8-80c13d6a7ba1",
   "metadata": {},
   "outputs": [
    {
     "name": "stdin",
     "output_type": "stream",
     "text": [
      "Enter the mileage of the car:  24000\n"
     ]
    },
    {
     "name": "stdout",
     "output_type": "stream",
     "text": [
      "Estimated price for 24000.0 miles: 7984.824523732361\n"
     ]
    }
   ],
   "source": [
    "def load_model():\n",
    "    # Load the trained model\n",
    "    with open('linear_regression_model.txt', 'r') as file:\n",
    "        b0, b1 = map(float, file.read().split(','))\n",
    "    return b0, b1\n",
    "\n",
    "def predict_price(mileage, b0, b1):\n",
    "    # Predict the price\n",
    "    price = b0 + b1 * mileage\n",
    "    return price\n",
    "\n",
    "if __name__ == \"__main__\":\n",
    "    # Example usage\n",
    "    b0, b1 = load_model()\n",
    "    mileage = float(input(\"Enter the mileage of the car: \"))\n",
    "    estimated_price = predict_price(mileage, b0, b1)\n",
    "    print(f\"Estimated price for {mileage} miles: {estimated_price}\")"
   ]
  },
  {
   "cell_type": "code",
   "execution_count": 3,
   "id": "149c66c6-282e-4d7b-aae6-d75115f5c92e",
   "metadata": {},
   "outputs": [
    {
     "ename": "ModuleNotFoundError",
     "evalue": "No module named 'pandas'",
     "output_type": "error",
     "traceback": [
      "\u001b[0;31m---------------------------------------------------------------------------\u001b[0m",
      "\u001b[0;31mModuleNotFoundError\u001b[0m                       Traceback (most recent call last)",
      "Cell \u001b[0;32mIn[3], line 1\u001b[0m\n\u001b[0;32m----> 1\u001b[0m \u001b[38;5;28;01mimport\u001b[39;00m \u001b[38;5;21;01mpandas\u001b[39;00m \u001b[38;5;28;01mas\u001b[39;00m \u001b[38;5;21;01mpd\u001b[39;00m\n\u001b[1;32m      2\u001b[0m \u001b[38;5;28;01mimport\u001b[39;00m \u001b[38;5;21;01mmatplotlib\u001b[39;00m\u001b[38;5;21;01m.\u001b[39;00m\u001b[38;5;21;01mpyplot\u001b[39;00m \u001b[38;5;28;01mas\u001b[39;00m \u001b[38;5;21;01mplt\u001b[39;00m\n\u001b[1;32m      4\u001b[0m \u001b[38;5;66;03m# Load the dataset\u001b[39;00m\n",
      "\u001b[0;31mModuleNotFoundError\u001b[0m: No module named 'pandas'"
     ]
    }
   ],
   "source": [
    "import pandas as pd\n",
    "import matplotlib.pyplot as plt\n",
    "\n",
    "# Load the dataset\n",
    "dataset = pd.read_csv('data.csv')\n",
    "\n",
    "# Visualize the dataset\n",
    "plt.scatter(dataset['mileage'], dataset['price'], label='Actual Prices')\n",
    "plt.xlabel('Mileage')\n",
    "plt.ylabel('Price')\n",
    "plt.title('Car Price vs Mileage')\n",
    "\n",
    "# Add the linear regression line\n",
    "b0, b1 = load_model()\n",
    "x_range = range(int(min(dataset['mileage'])), int(max(dataset['mileage'])) + 1)\n",
    "y_predicted = [predict_price(mileage, b0, b1) for mileage in x_range]\n",
    "plt.plot(x_range, y_predicted, color='red', label='Linear Regression Line')\n",
    "\n",
    "plt.legend()\n",
    "plt.show()\n"
   ]
  },
  {
   "cell_type": "code",
   "execution_count": null,
   "id": "98721d39-e3a4-4eb1-87ff-e9f25dc3bb34",
   "metadata": {},
   "outputs": [],
   "source": [
    "!pip i"
   ]
  }
 ],
 "metadata": {
  "kernelspec": {
   "display_name": "Python 3 (ipykernel)",
   "language": "python",
   "name": "python3"
  },
  "language_info": {
   "codemirror_mode": {
    "name": "ipython",
    "version": 3
   },
   "file_extension": ".py",
   "mimetype": "text/x-python",
   "name": "python",
   "nbconvert_exporter": "python",
   "pygments_lexer": "ipython3",
   "version": "3.11.2"
  }
 },
 "nbformat": 4,
 "nbformat_minor": 5
}
